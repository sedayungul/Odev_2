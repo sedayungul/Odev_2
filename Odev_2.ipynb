{
 "cells": [
  {
   "cell_type": "code",
   "execution_count": 1,
   "id": "121ec1ca-799a-406b-8167-5113eb7e740f",
   "metadata": {
    "editable": true,
    "slideshow": {
     "slide_type": ""
    },
    "tags": []
   },
   "outputs": [],
   "source": [
    "# Kullanıcıdan maaş bilgisini istenir ve bu bilgiye göre maaşından ne kadar vergi kesileceğini hesaplanır. Kullanıcının geliri;\n",
    "\n",
    "\n",
    "\n"
   ]
  },
  {
   "cell_type": "code",
   "execution_count": 2,
   "id": "a13b8f94-6dca-4747-a3da-828123652125",
   "metadata": {
    "editable": true,
    "slideshow": {
     "slide_type": ""
    },
    "tags": []
   },
   "outputs": [
    {
     "name": "stdout",
     "output_type": "stream",
     "text": [
      "245000.0\n"
     ]
    }
   ],
   "source": [
    "maas = 350000\n",
    "\n",
    "if maas < 10000:\n",
    "    kesinti = maas * 5 / 100\n",
    "elif maas < 25000:\n",
    "    kesinti = maas * 10 / 100\n",
    "elif maas < 45000:\n",
    "    kesinti = maas * 25 / 100\n",
    "else:\n",
    "    kesinti = maas * 30 / 100\n",
    "\n",
    "maas = maas - kesinti\n",
    "print(maas)\n",
    "\n",
    "\n"
   ]
  },
  {
   "cell_type": "code",
   "execution_count": 3,
   "id": "d18a4755-d0c3-40c3-8c24-3e8af169bd0d",
   "metadata": {
    "editable": true,
    "slideshow": {
     "slide_type": ""
    },
    "tags": []
   },
   "outputs": [],
   "source": [
    "# Kullanıcıdan kullanıcı adı ve şifre oluşturmasını istenir. Şifrenin uzunluğu altı haneye ulaşmışsa hesabınız oluşturuldu mesajı alınır, altı haneden azsa altı haneli şifre oluşturması gerektiğinin mesajı alınır. (Sadece koşul kullanılması yeterli.)"
   ]
  },
  {
   "cell_type": "code",
   "execution_count": 4,
   "id": "ce79225b-6bc8-4aac-b91c-785245afbcb0",
   "metadata": {
    "editable": true,
    "slideshow": {
     "slide_type": ""
    },
    "tags": []
   },
   "outputs": [
    {
     "name": "stdout",
     "output_type": "stream",
     "text": [
      "Şifreniz oluşturuldu\n"
     ]
    }
   ],
   "source": [
    "sifre=\"112233\"\n",
    "if len(sifre)==6:\n",
    "   print(\"Şifreniz oluşturuldu\")\n",
    "else:\n",
    "   print(\"Şifreniz 6 haneden az olduğu için yeniden şifre oluşturunuz\")\n",
    "    "
   ]
  },
  {
   "cell_type": "code",
   "execution_count": 5,
   "id": "8d4c1774-ac18-48d0-87ca-a60910302237",
   "metadata": {
    "editable": true,
    "slideshow": {
     "slide_type": ""
    },
    "tags": []
   },
   "outputs": [],
   "source": [
    "#Kullanıcı girdiği şifre 5 ve 10 hane arasında olmak zorunda.\n",
    "\n",
    "#Eğer bu koşula uyuyorsa \"Hesabınız oluşturuldu.\" mesajı alır.\n",
    "\n",
    "#Koşulu sağlamıyorsa \"Lütfen girdiniz şifre 5 haneden az 10 haneden fazla olmasın!\" uyarısı alır.\n",
    "\n",
    "#Bunu oluştururken kullanıcı istediğimiz şartlarda şifre oluşturana kadar sormaya devam eder"
   ]
  },
  {
   "cell_type": "code",
   "execution_count": 6,
   "id": "d28bb870-9cb6-411a-bcbc-c84df33f1a94",
   "metadata": {
    "editable": true,
    "slideshow": {
     "slide_type": ""
    },
    "tags": []
   },
   "outputs": [
    {
     "name": "stdout",
     "output_type": "stream",
     "text": [
      "123456\n"
     ]
    }
   ],
   "source": [
    "sifre=\"123456\"\n",
    "print(sifre)"
   ]
  },
  {
   "cell_type": "code",
   "execution_count": 1,
   "id": "455382c4-b028-4c83-bab7-9eb56f17846e",
   "metadata": {
    "editable": true,
    "slideshow": {
     "slide_type": ""
    },
    "tags": []
   },
   "outputs": [
    {
     "name": "stdin",
     "output_type": "stream",
     "text": [
      "Şifrenizi girin:  123456\n"
     ]
    },
    {
     "name": "stdout",
     "output_type": "stream",
     "text": [
      "Şifreniz doğru formattadır.\n"
     ]
    }
   ],
   "source": [
    "sifre = input(\"Şifrenizi girin: \")\n",
    "\n",
    "while len(sifre) < 6 or len(sifre) > 10:\n",
    "    print(\"Lütfen şifreyi 6 ile 10 karakter arasında girin!\")\n",
    "    sifre = input(\"Şifrenizi tekrar girin: \")\n",
    "\n",
    "print(\"Şifreniz doğru formattadır.\")\n"
   ]
  },
  {
   "cell_type": "code",
   "execution_count": 2,
   "id": "c692f227-d74b-4e29-b242-d23985c900de",
   "metadata": {
    "editable": true,
    "slideshow": {
     "slide_type": ""
    },
    "tags": []
   },
   "outputs": [
    {
     "name": "stdin",
     "output_type": "stream",
     "text": [
      "Kullanıcı adınızı girin:  seda\n",
      "Şifrenizi girin:  12345\n"
     ]
    },
    {
     "name": "stdout",
     "output_type": "stream",
     "text": [
      "Lütfen şifreyi 6 ile 10 karakter arasında girin! Kullanıcı adınız 4 haneden küçük olamaz.\n"
     ]
    },
    {
     "name": "stdin",
     "output_type": "stream",
     "text": [
      "Kullanıcı adınızı tekrar girin:  123456\n",
      "Şifrenizi tekrar girin:  1234567\n"
     ]
    },
    {
     "name": "stdout",
     "output_type": "stream",
     "text": [
      "Şifreniz doğru formattadır.\n"
     ]
    }
   ],
   "source": [
    "kullaniciadi = input(\"Kullanıcı adınızı girin: \")\n",
    "sifre = input(\"Şifrenizi girin: \")\n",
    "\n",
    "while len(sifre) < 6 or len(sifre) > 10 or len(kullaniciadi) < 4:\n",
    "    print(\"Lütfen şifreyi 6 ile 10 karakter arasında girin! Kullanıcı adınız 4 haneden küçük olamaz.\")\n",
    "    kullaniciadi = input(\"Kullanıcı adınızı tekrar girin: \")\n",
    "    sifre = input(\"Şifrenizi tekrar girin: \")\n",
    "\n",
    "print(\"Şifreniz doğru formattadır.\")\n"
   ]
  },
  {
   "cell_type": "code",
   "execution_count": null,
   "id": "e0d989fb-9743-42a4-9905-25d32c836d6a",
   "metadata": {
    "editable": true,
    "slideshow": {
     "slide_type": ""
    },
    "tags": []
   },
   "outputs": [
    {
     "name": "stdin",
     "output_type": "stream",
     "text": [
      "Kullanıcı adınızı girin:  sed\n",
      "Şifrenizi girin:  12\n"
     ]
    },
    {
     "name": "stdout",
     "output_type": "stream",
     "text": [
      "Lütfen şifreyi 6 ile 10 karakter arasında girin! Kullanıcı adınız 4 haneden küçük olamaz.\n"
     ]
    },
    {
     "name": "stdin",
     "output_type": "stream",
     "text": [
      "Kullanıcı adınızı tekrar girin:  sed\n",
      "Şifrenizi tekrar girin:  12\n"
     ]
    },
    {
     "name": "stdout",
     "output_type": "stream",
     "text": [
      "Kalan giriş hakkınız : 1\n",
      "Lütfen şifreyi 6 ile 10 karakter arasında girin! Kullanıcı adınız 4 haneden küçük olamaz.\n"
     ]
    },
    {
     "name": "stdin",
     "output_type": "stream",
     "text": [
      "Kullanıcı adınızı tekrar girin:  seda\n",
      "Şifrenizi tekrar girin:  12\n"
     ]
    },
    {
     "name": "stdout",
     "output_type": "stream",
     "text": [
      "Kalan giriş hakkınız : 2\n",
      "Lütfen şifreyi 6 ile 10 karakter arasında girin! Kullanıcı adınız 4 haneden küçük olamaz.\n"
     ]
    }
   ],
   "source": [
    "kullaniciadi = input(\"Kullanıcı adınızı girin: \")\n",
    "sifre = input(\"Şifrenizi girin: \")\n",
    "girishakki=1\n",
    "\n",
    "while len(sifre) < 6 or len(sifre) > 10 or len(kullaniciadi) < 4:\n",
    "    print(\"Lütfen şifreyi 6 ile 10 karakter arasında girin! Kullanıcı adınız 4 haneden küçük olamaz.\")\n",
    "    kullaniciadi = input(\"Kullanıcı adınızı tekrar girin: \")\n",
    "    sifre = input(\"Şifrenizi tekrar girin: \")\n",
    "    if girishakki<4:\n",
    "        print(\"Kalan giriş hakkınız :\",girishakki)\n",
    "        girishakki += 1\n",
    "    else:\n",
    "        print(\"Giriş hakkınız kalmamıştır\")\n",
    "        break\n",
    "\n",
    "print(\"Şifreniz doğru formattadır.\")"
   ]
  },
  {
   "cell_type": "code",
   "execution_count": null,
   "id": "a6e02f6b-814e-4793-9d81-33ec7c6c6aee",
   "metadata": {
    "editable": true,
    "slideshow": {
     "slide_type": ""
    },
    "tags": []
   },
   "outputs": [],
   "source": []
  }
 ],
 "metadata": {
  "kernelspec": {
   "display_name": "Python 3 (ipykernel)",
   "language": "python",
   "name": "python3"
  },
  "language_info": {
   "codemirror_mode": {
    "name": "ipython",
    "version": 3
   },
   "file_extension": ".py",
   "mimetype": "text/x-python",
   "name": "python",
   "nbconvert_exporter": "python",
   "pygments_lexer": "ipython3",
   "version": "3.13.5"
  }
 },
 "nbformat": 4,
 "nbformat_minor": 5
}
